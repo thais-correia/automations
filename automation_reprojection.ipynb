{
  "nbformat": 4,
  "nbformat_minor": 0,
  "metadata": {
    "colab": {
      "provenance": [],
      "authorship_tag": "ABX9TyN85UC/B6CYEtcLYBFNfHnE",
      "include_colab_link": true
    },
    "kernelspec": {
      "name": "python3",
      "display_name": "Python 3"
    },
    "language_info": {
      "name": "python"
    }
  },
  "cells": [
    {
      "cell_type": "markdown",
      "metadata": {
        "id": "view-in-github",
        "colab_type": "text"
      },
      "source": [
        "<a href=\"https://colab.research.google.com/github/thais-correia/automations/blob/main/automation_reprojection.ipynb\" target=\"_parent\"><img src=\"https://colab.research.google.com/assets/colab-badge.svg\" alt=\"Open In Colab\"/></a>"
      ]
    },
    {
      "cell_type": "markdown",
      "source": [
        "# **Automação de Reprojeção de Arquivos Geoespaciais**\n",
        "\n",
        "**Exemplo:** Temos alguns arquivos do tipo shapefile com o sistema de referência de coordenadas igual a SIRGAS 2000 / UTM zone 23S (*EPSG: 31983*). O objetivo desse código é reprojetar de uma única vez todos esses shapefiles para o SRC WGS 1984 / UTM zone 23S (*EPSG: 32723*).\n",
        "\n",
        "**Dados:** dados de áreas e edificações de lazer do município de Jundiaí - SP (Brasil). Arquivos do tipo shapefile com projeção SIRGAS 2000 / UTM zone 23S.\n",
        "\n",
        "**Fonte:** GeoJundiaí - Portal de Geotecnologias da Prefeitura Municipal de Jundiaí.\n",
        "\n",
        "**Disponível em:** https://geo.jundiai.sp.gov.br/geojundiai/\n",
        "\n",
        "--------------------------------------------------------------------------------\n",
        "\n",
        "# ***Automation of Geospatial File Reprojection***\n",
        "\n",
        "**Example**: *We have some shapefiles with the coordinate reference system SIRGAS 2000 / UTM zone 23S (EPSG: 31983). The goal of this script is to reproject all these shapefiles at once to the CRS WGS 1984 / UTM zone 23S (EPSG: 32723).*\n",
        "\n",
        "**Data**: *Spatial data of leisure areas and buildings in the municipality of Jundiaí - SP (Brazil). Shapefiles using the projection SIRGAS 2000 / UTM zone 23S.*\n",
        "\n",
        "**Source**: *GeoJundiaí - Geotechnology Portal of the Municipality of Jundiaí*.\n",
        "\n",
        "**Available at**: https://geo.jundiai.sp.gov.br/geojundiai/\n"
      ],
      "metadata": {
        "id": "twMhFIuUUfDt"
      }
    },
    {
      "cell_type": "markdown",
      "source": [
        " 1. Conectar ao Google Drive / *Connect to Google Drive*\n"
      ],
      "metadata": {
        "id": "HORSgKWOvpwQ"
      }
    },
    {
      "cell_type": "code",
      "execution_count": 23,
      "metadata": {
        "colab": {
          "base_uri": "https://localhost:8080/"
        },
        "id": "slbUrD6MvntI",
        "outputId": "f3566eb2-c31b-4133-892a-72a2f8df9a67"
      },
      "outputs": [
        {
          "output_type": "stream",
          "name": "stdout",
          "text": [
            "Mounted at /content/drive\n"
          ]
        }
      ],
      "source": [
        "from google.colab import drive\n",
        "\n",
        "drive.mount('/content/drive', force_remount = True)"
      ]
    },
    {
      "cell_type": "markdown",
      "source": [
        "2. Instalar pacotes necessários / *Install packages*"
      ],
      "metadata": {
        "id": "4gFQVzYP1kt1"
      }
    },
    {
      "cell_type": "code",
      "source": [
        "!pip install geopandas -q"
      ],
      "metadata": {
        "id": "CjL08GVl1ndj"
      },
      "execution_count": 24,
      "outputs": []
    },
    {
      "cell_type": "markdown",
      "source": [
        "3. Importar pacotes / *Import packages*"
      ],
      "metadata": {
        "id": "-iwfwjjk8PG2"
      }
    },
    {
      "cell_type": "code",
      "source": [
        "import geopandas as gpd\n",
        "import os"
      ],
      "metadata": {
        "id": "Gmfn0Q_v8LW8"
      },
      "execution_count": 25,
      "outputs": []
    },
    {
      "cell_type": "markdown",
      "source": [
        "4. Armazenar os nomes dos arquivos em uma lista / *Store the file names in a list*"
      ],
      "metadata": {
        "id": "ENMZazfK_3rX"
      }
    },
    {
      "cell_type": "code",
      "source": [
        "diretorio = \"/content/drive/MyDrive/Testes\"\n",
        "\n",
        "arquivos = os.listdir(diretorio)"
      ],
      "metadata": {
        "id": "6k7GqY7u_1hL"
      },
      "execution_count": 26,
      "outputs": []
    },
    {
      "cell_type": "markdown",
      "source": [
        "5. Visualizar a lista / *View the list*"
      ],
      "metadata": {
        "id": "GrERjSh0Aazn"
      }
    },
    {
      "cell_type": "code",
      "source": [
        "arquivos"
      ],
      "metadata": {
        "colab": {
          "base_uri": "https://localhost:8080/"
        },
        "id": "3uU7mPFMAeQj",
        "outputId": "44d46d54-454d-4c12-cb10-52b662ef30e3"
      },
      "execution_count": 27,
      "outputs": [
        {
          "output_type": "execute_result",
          "data": {
            "text/plain": [
              "['cultura_equipamentos.dbf',\n",
              " 'cultura_equipamentos.shx',\n",
              " 'cultura_equipamentos.prj',\n",
              " 'cultura_equipamentos.shp',\n",
              " 'cultura_equipamentos.cst',\n",
              " 'esportes_cece.shp',\n",
              " 'esportes_cece.prj',\n",
              " 'esportes_cece.cst',\n",
              " 'esportes_cece.shx',\n",
              " 'esportes_cece.dbf',\n",
              " 'piscinas.shp',\n",
              " 'piscinas.prj',\n",
              " 'piscinas.dbf',\n",
              " 'piscinas.shx',\n",
              " 'piscinas.cst',\n",
              " 'campos_quadras.shp',\n",
              " 'campos_quadras.cst',\n",
              " 'campos_quadras.dbf',\n",
              " 'campos_quadras.prj',\n",
              " 'campos_quadras.shx',\n",
              " 'bens-tombados.cst',\n",
              " 'bens-tombados.dbf',\n",
              " 'bens-tombados.prj',\n",
              " 'bens-tombados.shp',\n",
              " 'bens-tombados.shx',\n",
              " 'parques-municipais.cst',\n",
              " 'parques-municipais.dbf',\n",
              " 'parques-municipais.prj',\n",
              " 'parques-municipais.shp',\n",
              " 'parques-municipais.shx',\n",
              " 'geojundiai.gdoc']"
            ]
          },
          "metadata": {},
          "execution_count": 27
        }
      ]
    },
    {
      "cell_type": "markdown",
      "source": [
        "6. Fazer um loop para iterar e reprojetar cada shapefile para WGS84 (UTM) / *Create a loop to iterate and reproject each shapefile to WGS84 (UTM)*"
      ],
      "metadata": {
        "id": "859QEGRSBboA"
      }
    },
    {
      "cell_type": "code",
      "source": [
        "for shapefile in arquivos:\n",
        "  # Verificar se o tipo de arquivo é .shp\n",
        "  if shapefile.endswith(\".shp\"):\n",
        "    # Se for do tipo \".shp\", ler o arquivo para um GeoDataFrame\n",
        "    lazer = gpd.read_file((\"/content/drive/MyDrive/Testes/%s\"%shapefile))\n",
        "    # Reprojetar o gdf para o EPSG:32723\n",
        "    lazer = lazer.to_crs(\"epsg:32723\")\n",
        "    # Exportar o gdf reprojetado como shape e renomear o arquivo\n",
        "    lazer.to_file(\"/content/drive/MyDrive/Testes/reproj_%s\"%shapefile)"
      ],
      "metadata": {
        "colab": {
          "base_uri": "https://localhost:8080/"
        },
        "id": "ZBCguYgEBkEc",
        "outputId": "de217e02-f999-46d1-d926-1e42d75cb3ac"
      },
      "execution_count": 28,
      "outputs": [
        {
          "output_type": "stream",
          "name": "stderr",
          "text": [
            "/usr/local/lib/python3.10/dist-packages/pyogrio/raw.py:198: UserWarning: Measured (M) geometry types are not supported. Original type 'Measured 3D Point' is converted to 'Point Z'\n",
            "  return ogr_read(\n",
            "/usr/local/lib/python3.10/dist-packages/pyogrio/raw.py:723: RuntimeWarning: Value 'PISTA DE CAMINHADA, PISCINA OLIMPICA, PLAYGROUND, SALA DE TROFÉUS, QUADRA POLIESPORTIVA COM COBERTURA, VESTIÁRIOS, PISTA DE ATLETISMO, GINÁSIO POLIESPORTIVO COM ARQUIBANCADA, SALA DE MUSCULAÇÃO INTERNA, ACADEMIA AO AR LIVRE, ADMINISTRAÇÃO, MUSEU DO ESPOR' of field equipament has been truncated to 254 characters.  This warning will not be emitted any more for that layer.\n",
            "  ogr_write(\n"
          ]
        }
      ]
    },
    {
      "cell_type": "markdown",
      "source": [
        "7. Verificar os arquivos reprojetados / *Check the reprojected files*"
      ],
      "metadata": {
        "id": "KC69UWLLNN5X"
      }
    },
    {
      "cell_type": "code",
      "source": [
        "# Listar os arquivos que começam com \"reproj\" e terminam com \".shp\"\n",
        "arquivos_reproj = [arquivo for arquivo in os.listdir(diretorio)\n",
        "                   if arquivo.startswith(\"reproj\") and arquivo.endswith(\".shp\")]\n",
        "\n",
        "print(arquivos_reproj)\n"
      ],
      "metadata": {
        "colab": {
          "base_uri": "https://localhost:8080/"
        },
        "id": "sK7dkC8cQJsI",
        "outputId": "9d9adc87-fcbf-40cf-9fbc-583a9af22b70"
      },
      "execution_count": 29,
      "outputs": [
        {
          "output_type": "stream",
          "name": "stdout",
          "text": [
            "['reproj_cultura_equipamentos.shp', 'reproj_esportes_cece.shp', 'reproj_piscinas.shp', 'reproj_campos_quadras.shp', 'reproj_bens-tombados.shp', 'reproj_parques-municipais.shp']\n"
          ]
        }
      ]
    },
    {
      "cell_type": "markdown",
      "source": [
        "8. Usar um arquivo de exemplo para validar se os arquivos realmente foram reprojetados de SIRGAS 2000 para WGS 1984 / *Use an example file to validate if the files really have been reprojected from SIRGAS 2000 to WGS 1984*"
      ],
      "metadata": {
        "id": "_aPOZzZyTX2m"
      }
    },
    {
      "cell_type": "code",
      "source": [
        "parques = gpd.read_file(\"/content/drive/MyDrive/Testes/reproj_parques-municipais.shp\")\n",
        "\n",
        "parques.crs"
      ],
      "metadata": {
        "colab": {
          "base_uri": "https://localhost:8080/"
        },
        "id": "Cqfu81ChTXeG",
        "outputId": "edd5f3ef-7a91-40eb-c9b8-f53054947226"
      },
      "execution_count": 31,
      "outputs": [
        {
          "output_type": "execute_result",
          "data": {
            "text/plain": [
              "<Projected CRS: EPSG:32723>\n",
              "Name: WGS 84 / UTM zone 23S\n",
              "Axis Info [cartesian]:\n",
              "- E[east]: Easting (metre)\n",
              "- N[north]: Northing (metre)\n",
              "Area of Use:\n",
              "- name: Between 48°W and 42°W, southern hemisphere between 80°S and equator, onshore and offshore. Brazil.\n",
              "- bounds: (-48.0, -80.0, -42.0, 0.0)\n",
              "Coordinate Operation:\n",
              "- name: UTM zone 23S\n",
              "- method: Transverse Mercator\n",
              "Datum: World Geodetic System 1984 ensemble\n",
              "- Ellipsoid: WGS 84\n",
              "- Prime Meridian: Greenwich"
            ]
          },
          "metadata": {},
          "execution_count": 31
        }
      ]
    },
    {
      "cell_type": "markdown",
      "source": [
        "**Obrigada pela atenção!** 🌎\n",
        "\n",
        "*Thanks for your time and consideration!* 🌎"
      ],
      "metadata": {
        "id": "oTlk5d30UagP"
      }
    }
  ]
}